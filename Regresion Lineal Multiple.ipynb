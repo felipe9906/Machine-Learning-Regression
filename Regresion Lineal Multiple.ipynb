{
 "cells": [
  {
   "cell_type": "markdown",
   "id": "0264a86c",
   "metadata": {},
   "source": [
    "# Regresion Lineal Multiple\n",
    "\n",
    "* Tiene la forma Y= ax1 + ax2 + ... + axn + b\n",
    "* Poseen varias caracteristicas reflejadas en x y sus respectivos coeficientes a\n",
    "* Se debe tener en cuenta la multicolinealidad que quiere decir que las variables independientes (x) pueden relacionarsen entre si"
   ]
  },
  {
   "cell_type": "code",
   "execution_count": 1,
   "id": "ec936191",
   "metadata": {},
   "outputs": [],
   "source": [
    "#Importando librerias \n",
    "import pandas as pd\n",
    "import numpy as np\n",
    "import matplotlib.pyplot as plt\n",
    "from sklearn import datasets,linear_model\n",
    "from sklearn.model_selection import train_test_split"
   ]
  },
  {
   "cell_type": "code",
   "execution_count": 1,
   "id": "0bf6455b",
   "metadata": {},
   "outputs": [
    {
     "ename": "NameError",
     "evalue": "name 'pd' is not defined",
     "output_type": "error",
     "traceback": [
      "\u001b[1;31m---------------------------------------------------------------------------\u001b[0m",
      "\u001b[1;31mNameError\u001b[0m                                 Traceback (most recent call last)",
      "\u001b[1;32m~\\AppData\\Local\\Temp\\ipykernel_7512\\3426060144.py\u001b[0m in \u001b[0;36m<module>\u001b[1;34m\u001b[0m\n\u001b[0;32m      1\u001b[0m \u001b[1;31m#IMPORTANDO LOS DATOS\u001b[0m\u001b[1;33m\u001b[0m\u001b[1;33m\u001b[0m\u001b[0m\n\u001b[1;32m----> 2\u001b[1;33m \u001b[0mcasas\u001b[0m \u001b[1;33m=\u001b[0m \u001b[0mpd\u001b[0m\u001b[1;33m.\u001b[0m\u001b[0mread_csv\u001b[0m\u001b[1;33m(\u001b[0m\u001b[1;34m\"train.csv\"\u001b[0m\u001b[1;33m,\u001b[0m \u001b[0msep\u001b[0m\u001b[1;33m=\u001b[0m\u001b[1;34m\",\"\u001b[0m\u001b[1;33m)\u001b[0m\u001b[1;33m\u001b[0m\u001b[1;33m\u001b[0m\u001b[0m\n\u001b[0m\u001b[0;32m      3\u001b[0m \u001b[1;33m\u001b[0m\u001b[0m\n\u001b[0;32m      4\u001b[0m \u001b[0mcasas\u001b[0m\u001b[1;33m.\u001b[0m\u001b[0mhead\u001b[0m\u001b[1;33m(\u001b[0m\u001b[1;33m)\u001b[0m\u001b[1;33m\u001b[0m\u001b[1;33m\u001b[0m\u001b[0m\n",
      "\u001b[1;31mNameError\u001b[0m: name 'pd' is not defined"
     ]
    }
   ],
   "source": [
    "#IMPORTANDO LOS DATOS\n",
    "casas = pd.read_csv(\"C:/Users/Arley/Desktop/AMachine Learning/Modelos MachineLearning/Regresiones Lineales/Regresion Lineal Multiple/train.csv\", sep=\",\")\n",
    "\n",
    "casas.head()"
   ]
  },
  {
   "cell_type": "markdown",
   "id": "4128673d",
   "metadata": {},
   "source": [
    "## Eliminar Columnas que no sean de valor numerico"
   ]
  },
  {
   "cell_type": "code",
   "execution_count": 30,
   "id": "4bfaec1e",
   "metadata": {},
   "outputs": [],
   "source": [
    "def solo_numericos(Data_Frame):\n",
    "    #Se puede agregar datos tipo decha o bool\n",
    "    \n",
    "    columnas = list(Data_Frame.dtypes)\n",
    "    columnasnum=[] #Aqui se almacenaran los indices de las columnas de tipo numerico\n",
    "    \n",
    "    for c in range(0,len(columnas)):\n",
    "        #Esta funcion devuelve los indices de las columnas que no tienen datos numericos\n",
    "\n",
    "        if(not(bool(columnas[c] == \"int64\") ^ bool(columnas[c] == \"float64\"))): #Devuelve True si es diferente de un tipo numerico\n",
    "            columnasnum.append(c) #Agrega el indice de las columnas diferentes a datos int op float\n",
    "    \n",
    "    DatosNum = Data_Frame.drop(casas.columns[columnasnum], axis=\"columns\") #Elimina las columnas por indices\n",
    "    \n",
    "    return DatosNum #Retorna el Dataset con los campos que sean unicamente int o float"
   ]
  },
  {
   "cell_type": "code",
   "execution_count": 32,
   "id": "285faa06",
   "metadata": {},
   "outputs": [
    {
     "data": {
      "text/html": [
       "<div>\n",
       "<style scoped>\n",
       "    .dataframe tbody tr th:only-of-type {\n",
       "        vertical-align: middle;\n",
       "    }\n",
       "\n",
       "    .dataframe tbody tr th {\n",
       "        vertical-align: top;\n",
       "    }\n",
       "\n",
       "    .dataframe thead th {\n",
       "        text-align: right;\n",
       "    }\n",
       "</style>\n",
       "<table border=\"1\" class=\"dataframe\">\n",
       "  <thead>\n",
       "    <tr style=\"text-align: right;\">\n",
       "      <th></th>\n",
       "      <th>Id</th>\n",
       "      <th>MSSubClass</th>\n",
       "      <th>LotFrontage</th>\n",
       "      <th>LotArea</th>\n",
       "      <th>OverallQual</th>\n",
       "      <th>OverallCond</th>\n",
       "      <th>YearBuilt</th>\n",
       "      <th>YearRemodAdd</th>\n",
       "      <th>MasVnrArea</th>\n",
       "      <th>BsmtFinSF1</th>\n",
       "      <th>...</th>\n",
       "      <th>WoodDeckSF</th>\n",
       "      <th>OpenPorchSF</th>\n",
       "      <th>EnclosedPorch</th>\n",
       "      <th>3SsnPorch</th>\n",
       "      <th>ScreenPorch</th>\n",
       "      <th>PoolArea</th>\n",
       "      <th>MiscVal</th>\n",
       "      <th>MoSold</th>\n",
       "      <th>YrSold</th>\n",
       "      <th>SalePrice</th>\n",
       "    </tr>\n",
       "  </thead>\n",
       "  <tbody>\n",
       "    <tr>\n",
       "      <th>0</th>\n",
       "      <td>1</td>\n",
       "      <td>60</td>\n",
       "      <td>65.0</td>\n",
       "      <td>8450</td>\n",
       "      <td>7</td>\n",
       "      <td>5</td>\n",
       "      <td>2003</td>\n",
       "      <td>2003</td>\n",
       "      <td>196.0</td>\n",
       "      <td>706</td>\n",
       "      <td>...</td>\n",
       "      <td>0</td>\n",
       "      <td>61</td>\n",
       "      <td>0</td>\n",
       "      <td>0</td>\n",
       "      <td>0</td>\n",
       "      <td>0</td>\n",
       "      <td>0</td>\n",
       "      <td>2</td>\n",
       "      <td>2008</td>\n",
       "      <td>208500</td>\n",
       "    </tr>\n",
       "    <tr>\n",
       "      <th>1</th>\n",
       "      <td>2</td>\n",
       "      <td>20</td>\n",
       "      <td>80.0</td>\n",
       "      <td>9600</td>\n",
       "      <td>6</td>\n",
       "      <td>8</td>\n",
       "      <td>1976</td>\n",
       "      <td>1976</td>\n",
       "      <td>0.0</td>\n",
       "      <td>978</td>\n",
       "      <td>...</td>\n",
       "      <td>298</td>\n",
       "      <td>0</td>\n",
       "      <td>0</td>\n",
       "      <td>0</td>\n",
       "      <td>0</td>\n",
       "      <td>0</td>\n",
       "      <td>0</td>\n",
       "      <td>5</td>\n",
       "      <td>2007</td>\n",
       "      <td>181500</td>\n",
       "    </tr>\n",
       "    <tr>\n",
       "      <th>2</th>\n",
       "      <td>3</td>\n",
       "      <td>60</td>\n",
       "      <td>68.0</td>\n",
       "      <td>11250</td>\n",
       "      <td>7</td>\n",
       "      <td>5</td>\n",
       "      <td>2001</td>\n",
       "      <td>2002</td>\n",
       "      <td>162.0</td>\n",
       "      <td>486</td>\n",
       "      <td>...</td>\n",
       "      <td>0</td>\n",
       "      <td>42</td>\n",
       "      <td>0</td>\n",
       "      <td>0</td>\n",
       "      <td>0</td>\n",
       "      <td>0</td>\n",
       "      <td>0</td>\n",
       "      <td>9</td>\n",
       "      <td>2008</td>\n",
       "      <td>223500</td>\n",
       "    </tr>\n",
       "    <tr>\n",
       "      <th>3</th>\n",
       "      <td>4</td>\n",
       "      <td>70</td>\n",
       "      <td>60.0</td>\n",
       "      <td>9550</td>\n",
       "      <td>7</td>\n",
       "      <td>5</td>\n",
       "      <td>1915</td>\n",
       "      <td>1970</td>\n",
       "      <td>0.0</td>\n",
       "      <td>216</td>\n",
       "      <td>...</td>\n",
       "      <td>0</td>\n",
       "      <td>35</td>\n",
       "      <td>272</td>\n",
       "      <td>0</td>\n",
       "      <td>0</td>\n",
       "      <td>0</td>\n",
       "      <td>0</td>\n",
       "      <td>2</td>\n",
       "      <td>2006</td>\n",
       "      <td>140000</td>\n",
       "    </tr>\n",
       "    <tr>\n",
       "      <th>4</th>\n",
       "      <td>5</td>\n",
       "      <td>60</td>\n",
       "      <td>84.0</td>\n",
       "      <td>14260</td>\n",
       "      <td>8</td>\n",
       "      <td>5</td>\n",
       "      <td>2000</td>\n",
       "      <td>2000</td>\n",
       "      <td>350.0</td>\n",
       "      <td>655</td>\n",
       "      <td>...</td>\n",
       "      <td>192</td>\n",
       "      <td>84</td>\n",
       "      <td>0</td>\n",
       "      <td>0</td>\n",
       "      <td>0</td>\n",
       "      <td>0</td>\n",
       "      <td>0</td>\n",
       "      <td>12</td>\n",
       "      <td>2008</td>\n",
       "      <td>250000</td>\n",
       "    </tr>\n",
       "  </tbody>\n",
       "</table>\n",
       "<p>5 rows × 38 columns</p>\n",
       "</div>"
      ],
      "text/plain": [
       "   Id  MSSubClass  LotFrontage  LotArea  OverallQual  OverallCond  YearBuilt  \\\n",
       "0   1          60         65.0     8450            7            5       2003   \n",
       "1   2          20         80.0     9600            6            8       1976   \n",
       "2   3          60         68.0    11250            7            5       2001   \n",
       "3   4          70         60.0     9550            7            5       1915   \n",
       "4   5          60         84.0    14260            8            5       2000   \n",
       "\n",
       "   YearRemodAdd  MasVnrArea  BsmtFinSF1  ...  WoodDeckSF  OpenPorchSF  \\\n",
       "0          2003       196.0         706  ...           0           61   \n",
       "1          1976         0.0         978  ...         298            0   \n",
       "2          2002       162.0         486  ...           0           42   \n",
       "3          1970         0.0         216  ...           0           35   \n",
       "4          2000       350.0         655  ...         192           84   \n",
       "\n",
       "   EnclosedPorch  3SsnPorch  ScreenPorch  PoolArea  MiscVal  MoSold  YrSold  \\\n",
       "0              0          0            0         0        0       2    2008   \n",
       "1              0          0            0         0        0       5    2007   \n",
       "2              0          0            0         0        0       9    2008   \n",
       "3            272          0            0         0        0       2    2006   \n",
       "4              0          0            0         0        0      12    2008   \n",
       "\n",
       "   SalePrice  \n",
       "0     208500  \n",
       "1     181500  \n",
       "2     223500  \n",
       "3     140000  \n",
       "4     250000  \n",
       "\n",
       "[5 rows x 38 columns]"
      ]
     },
     "execution_count": 32,
     "metadata": {},
     "output_type": "execute_result"
    }
   ],
   "source": [
    "#Instanciamos la funcion\n",
    "casas_num = solo_numericos(casas)\n",
    "casas_num.head()"
   ]
  },
  {
   "cell_type": "code",
   "execution_count": 40,
   "id": "4fdf3ba3",
   "metadata": {},
   "outputs": [
    {
     "data": {
      "text/plain": [
       "<matplotlib.collections.PathCollection at 0x266985c6910>"
      ]
     },
     "execution_count": 40,
     "metadata": {},
     "output_type": "execute_result"
    },
    {
     "data": {
      "image/png": "[encoded data removed]",
      "text/plain": [
       "<Figure size 640x480 with 1 Axes>"
      ]
     },
     "metadata": {},
     "output_type": "display_data"
    }
   ],
   "source": [
    "plt.scatter(casas_num[\"OverallQual\"], casas_num[\"SalePrice\"])"
   ]
  },
  {
   "cell_type": "markdown",
   "id": "15a729bc",
   "metadata": {},
   "source": [
    "### Se analizaron los Datos y se encontro una relacion mas lineal segun las siguientes caracteristicas\n",
    "# Atributos a Considerar: LotArea, BsmtFinSF1, OverallQual"
   ]
  },
  {
   "cell_type": "code",
   "execution_count": 49,
   "id": "a8a986bc",
   "metadata": {},
   "outputs": [
    {
     "data": {
      "text/plain": [
       "(1460, 4)"
      ]
     },
     "execution_count": 49,
     "metadata": {},
     "output_type": "execute_result"
    }
   ],
   "source": [
    "# COMPROBANDO SI FALTAN DATOS\n",
    "datos_modelo = casas_num[[\"LotArea\", \"BsmtFinSF1\", \"OverallQual\",\"SalePrice\"]]\n",
    "datos_x.shape"
   ]
  },
  {
   "cell_type": "code",
   "execution_count": 50,
   "id": "a96a1485",
   "metadata": {},
   "outputs": [
    {
     "data": {
      "text/plain": [
       "LotArea        1460\n",
       "BsmtFinSF1     1460\n",
       "OverallQual    1460\n",
       "SalePrice      1460\n",
       "dtype: int64"
      ]
     },
     "execution_count": 50,
     "metadata": {},
     "output_type": "execute_result"
    }
   ],
   "source": [
    "datos_modelo.notnull().count()\n",
    "# De aca concluimos que los datos estan correctamente SIN FALTANTES"
   ]
  },
  {
   "cell_type": "markdown",
   "id": "5dc96461",
   "metadata": {},
   "source": [
    "# Generando el Modelo"
   ]
  },
  {
   "cell_type": "code",
   "execution_count": 61,
   "id": "518571d6",
   "metadata": {},
   "outputs": [],
   "source": [
    "x_data = datos_modelo[[\"LotArea\", \"BsmtFinSF1\", \"OverallQual\"]]\n",
    "y_data = datos_modelo[[\"SalePrice\"]]"
   ]
  },
  {
   "cell_type": "markdown",
   "id": "8f78b884",
   "metadata": {},
   "source": [
    "##  Dividiendo los datos de prueba y de test"
   ]
  },
  {
   "cell_type": "code",
   "execution_count": 66,
   "id": "a4804242",
   "metadata": {},
   "outputs": [],
   "source": [
    "from sklearn.model_selection import train_test_split\n",
    "x_train, x_test, y_train, y_test = train_test_split(x_data, y_data, test_size=0.3)"
   ]
  },
  {
   "cell_type": "code",
   "execution_count": 74,
   "id": "8a7d5a88",
   "metadata": {},
   "outputs": [],
   "source": [
    "# Generando el Modelo\n",
    "lr_multiple = linear_model.LinearRegression()"
   ]
  },
  {
   "cell_type": "markdown",
   "id": "87a7b5c4",
   "metadata": {},
   "source": [
    "# Entrenando el Modelo"
   ]
  },
  {
   "cell_type": "code",
   "execution_count": 78,
   "id": "da0f5c05",
   "metadata": {},
   "outputs": [
    {
     "data": {
      "text/plain": [
       "LinearRegression()"
      ]
     },
     "execution_count": 78,
     "metadata": {},
     "output_type": "execute_result"
    }
   ],
   "source": [
    "lr_multiple.fit(x_train, y_train)"
   ]
  },
  {
   "cell_type": "markdown",
   "id": "eeb1d8c4",
   "metadata": {},
   "source": [
    "# Realizando la prediccion"
   ]
  },
  {
   "cell_type": "code",
   "execution_count": 81,
   "id": "bfc1ab73",
   "metadata": {},
   "outputs": [],
   "source": [
    "y_predict = lr_multiple.predict(x_test)"
   ]
  },
  {
   "cell_type": "markdown",
   "id": "7693c772",
   "metadata": {},
   "source": [
    "# PRECISION DEL MODELO"
   ]
  },
  {
   "cell_type": "code",
   "execution_count": 82,
   "id": "095ae287",
   "metadata": {},
   "outputs": [
    {
     "data": {
      "text/plain": [
       "0.6776113009589857"
      ]
     },
     "execution_count": 82,
     "metadata": {},
     "output_type": "execute_result"
    }
   ],
   "source": [
    "lr_multiple.score(x_train, y_train)"
   ]
  },
  {
   "cell_type": "markdown",
   "id": "02c2870e",
   "metadata": {},
   "source": [
    "## Ecuacion de la recta"
   ]
  },
  {
   "cell_type": "code",
   "execution_count": 85,
   "id": "cabf8de5",
   "metadata": {},
   "outputs": [
    {
     "data": {
      "text/plain": [
       "array([[1.34405794e+00, 3.12496029e+01, 4.19914336e+04]])"
      ]
     },
     "execution_count": 85,
     "metadata": {},
     "output_type": "execute_result"
    }
   ],
   "source": [
    "#coeficientes a\n",
    "lr_multiple.coef_"
   ]
  },
  {
   "cell_type": "code",
   "execution_count": 118,
   "id": "faca1a14",
   "metadata": {},
   "outputs": [
    {
     "data": {
      "text/plain": [
       "array([-102844.33311529])"
      ]
     },
     "execution_count": 118,
     "metadata": {},
     "output_type": "execute_result"
    }
   ],
   "source": [
    "#intercepto\n",
    "lr_multiple.intercept_"
   ]
  },
  {
   "cell_type": "markdown",
   "id": "b96129c3",
   "metadata": {},
   "source": [
    "# GRAFICANDO LOS DATOS"
   ]
  },
  {
   "cell_type": "code",
   "execution_count": 121,
   "id": "5d87e548",
   "metadata": {},
   "outputs": [],
   "source": [
    "x_train_graf=list(range(len(y_train)))\n",
    "x_predict_graf=list(range(len(y_predict)))"
   ]
  },
  {
   "cell_type": "code",
   "execution_count": 124,
   "id": "6a892692",
   "metadata": {},
   "outputs": [
    {
     "data": {
      "text/plain": [
       "<matplotlib.collections.PathCollection at 0x2669c35ca90>"
      ]
     },
     "execution_count": 124,
     "metadata": {},
     "output_type": "execute_result"
    },
    {
     "data": {
      "image/png": "[encoded data removed]",
      "text/plain": [
       "<Figure size 640x480 with 1 Axes>"
      ]
     },
     "metadata": {},
     "output_type": "display_data"
    }
   ],
   "source": [
    "# AQUI SOLO SE PUEDE ANALIZAR LOS RESULTADOS DE \"Y\", YA QUE NO SE PUEDE GRAFICAR CON 3 VARIABLES \"X\"\n",
    "plt.scatter(x_train_graf, y_train, color=\"red\")\n",
    "plt.scatter(x_predict_graf, y_predict, color=\"blue\")\n"
   ]
  }
 ],
 "metadata": {
  "kernelspec": {
   "display_name": "Python 3 (ipykernel)",
   "language": "python",
   "name": "python3"
  },
  "language_info": {
   "codemirror_mode": {
    "name": "ipython",
    "version": 3
   },
   "file_extension": ".py",
   "mimetype": "text/x-python",
   "name": "python",
   "nbconvert_exporter": "python",
   "pygments_lexer": "ipython3",
   "version": "3.9.13"
  }
 },
 "nbformat": 4,
 "nbformat_minor": 5
}
