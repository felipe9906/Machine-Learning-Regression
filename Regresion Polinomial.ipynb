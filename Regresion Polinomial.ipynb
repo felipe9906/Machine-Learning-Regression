{
 "cells": [
  {
   "cell_type": "markdown",
   "id": "d126681c",
   "metadata": {},
   "source": [
    "# Regresion Polinomial"
   ]
  },
  {
   "cell_type": "markdown",
   "id": "4da9cb4d",
   "metadata": {},
   "source": [
    "* Ajusta una funcion polinomial segun los datos\n",
    "* Tiende a sobreajustarse, se debe revisar si la funcion si cumple con la tendencia de lso datos en los extremos\n",
    "* La funcion es muy sensible a datos atipicos"
   ]
  },
  {
   "cell_type": "code",
   "execution_count": 1,
   "id": "0dbd6931",
   "metadata": {},
   "outputs": [],
   "source": [
    "#Importando librerias \n",
    "import pandas as pd\n",
    "import numpy as np\n",
    "import matplotlib.pyplot as plt\n",
    "from sklearn import linear_model\n",
    "from sklearn.model_selection import train_test_split"
   ]
  },
  {
   "cell_type": "code",
   "execution_count": 13,
   "id": "4f580e71",
   "metadata": {},
   "outputs": [
    {
     "data": {
      "text/html": [
       "<div>\n",
       "<style scoped>\n",
       "    .dataframe tbody tr th:only-of-type {\n",
       "        vertical-align: middle;\n",
       "    }\n",
       "\n",
       "    .dataframe tbody tr th {\n",
       "        vertical-align: top;\n",
       "    }\n",
       "\n",
       "    .dataframe thead th {\n",
       "        text-align: right;\n",
       "    }\n",
       "</style>\n",
       "<table border=\"1\" class=\"dataframe\">\n",
       "  <thead>\n",
       "    <tr style=\"text-align: right;\">\n",
       "      <th></th>\n",
       "      <th>Id</th>\n",
       "      <th>MSSubClass</th>\n",
       "      <th>MSZoning</th>\n",
       "      <th>LotFrontage</th>\n",
       "      <th>LotArea</th>\n",
       "      <th>Street</th>\n",
       "      <th>Alley</th>\n",
       "      <th>LotShape</th>\n",
       "      <th>LandContour</th>\n",
       "      <th>Utilities</th>\n",
       "      <th>...</th>\n",
       "      <th>PoolArea</th>\n",
       "      <th>PoolQC</th>\n",
       "      <th>Fence</th>\n",
       "      <th>MiscFeature</th>\n",
       "      <th>MiscVal</th>\n",
       "      <th>MoSold</th>\n",
       "      <th>YrSold</th>\n",
       "      <th>SaleType</th>\n",
       "      <th>SaleCondition</th>\n",
       "      <th>SalePrice</th>\n",
       "    </tr>\n",
       "  </thead>\n",
       "  <tbody>\n",
       "    <tr>\n",
       "      <th>0</th>\n",
       "      <td>1</td>\n",
       "      <td>60</td>\n",
       "      <td>RL</td>\n",
       "      <td>65.0</td>\n",
       "      <td>8450</td>\n",
       "      <td>Pave</td>\n",
       "      <td>NaN</td>\n",
       "      <td>Reg</td>\n",
       "      <td>Lvl</td>\n",
       "      <td>AllPub</td>\n",
       "      <td>...</td>\n",
       "      <td>0</td>\n",
       "      <td>NaN</td>\n",
       "      <td>NaN</td>\n",
       "      <td>NaN</td>\n",
       "      <td>0</td>\n",
       "      <td>2</td>\n",
       "      <td>2008</td>\n",
       "      <td>WD</td>\n",
       "      <td>Normal</td>\n",
       "      <td>208500</td>\n",
       "    </tr>\n",
       "    <tr>\n",
       "      <th>1</th>\n",
       "      <td>2</td>\n",
       "      <td>20</td>\n",
       "      <td>RL</td>\n",
       "      <td>80.0</td>\n",
       "      <td>9600</td>\n",
       "      <td>Pave</td>\n",
       "      <td>NaN</td>\n",
       "      <td>Reg</td>\n",
       "      <td>Lvl</td>\n",
       "      <td>AllPub</td>\n",
       "      <td>...</td>\n",
       "      <td>0</td>\n",
       "      <td>NaN</td>\n",
       "      <td>NaN</td>\n",
       "      <td>NaN</td>\n",
       "      <td>0</td>\n",
       "      <td>5</td>\n",
       "      <td>2007</td>\n",
       "      <td>WD</td>\n",
       "      <td>Normal</td>\n",
       "      <td>181500</td>\n",
       "    </tr>\n",
       "    <tr>\n",
       "      <th>2</th>\n",
       "      <td>3</td>\n",
       "      <td>60</td>\n",
       "      <td>RL</td>\n",
       "      <td>68.0</td>\n",
       "      <td>11250</td>\n",
       "      <td>Pave</td>\n",
       "      <td>NaN</td>\n",
       "      <td>IR1</td>\n",
       "      <td>Lvl</td>\n",
       "      <td>AllPub</td>\n",
       "      <td>...</td>\n",
       "      <td>0</td>\n",
       "      <td>NaN</td>\n",
       "      <td>NaN</td>\n",
       "      <td>NaN</td>\n",
       "      <td>0</td>\n",
       "      <td>9</td>\n",
       "      <td>2008</td>\n",
       "      <td>WD</td>\n",
       "      <td>Normal</td>\n",
       "      <td>223500</td>\n",
       "    </tr>\n",
       "    <tr>\n",
       "      <th>3</th>\n",
       "      <td>4</td>\n",
       "      <td>70</td>\n",
       "      <td>RL</td>\n",
       "      <td>60.0</td>\n",
       "      <td>9550</td>\n",
       "      <td>Pave</td>\n",
       "      <td>NaN</td>\n",
       "      <td>IR1</td>\n",
       "      <td>Lvl</td>\n",
       "      <td>AllPub</td>\n",
       "      <td>...</td>\n",
       "      <td>0</td>\n",
       "      <td>NaN</td>\n",
       "      <td>NaN</td>\n",
       "      <td>NaN</td>\n",
       "      <td>0</td>\n",
       "      <td>2</td>\n",
       "      <td>2006</td>\n",
       "      <td>WD</td>\n",
       "      <td>Abnorml</td>\n",
       "      <td>140000</td>\n",
       "    </tr>\n",
       "    <tr>\n",
       "      <th>4</th>\n",
       "      <td>5</td>\n",
       "      <td>60</td>\n",
       "      <td>RL</td>\n",
       "      <td>84.0</td>\n",
       "      <td>14260</td>\n",
       "      <td>Pave</td>\n",
       "      <td>NaN</td>\n",
       "      <td>IR1</td>\n",
       "      <td>Lvl</td>\n",
       "      <td>AllPub</td>\n",
       "      <td>...</td>\n",
       "      <td>0</td>\n",
       "      <td>NaN</td>\n",
       "      <td>NaN</td>\n",
       "      <td>NaN</td>\n",
       "      <td>0</td>\n",
       "      <td>12</td>\n",
       "      <td>2008</td>\n",
       "      <td>WD</td>\n",
       "      <td>Normal</td>\n",
       "      <td>250000</td>\n",
       "    </tr>\n",
       "  </tbody>\n",
       "</table>\n",
       "<p>5 rows × 81 columns</p>\n",
       "</div>"
      ],
      "text/plain": [
       "   Id  MSSubClass MSZoning  LotFrontage  LotArea Street Alley LotShape  \\\n",
       "0   1          60       RL         65.0     8450   Pave   NaN      Reg   \n",
       "1   2          20       RL         80.0     9600   Pave   NaN      Reg   \n",
       "2   3          60       RL         68.0    11250   Pave   NaN      IR1   \n",
       "3   4          70       RL         60.0     9550   Pave   NaN      IR1   \n",
       "4   5          60       RL         84.0    14260   Pave   NaN      IR1   \n",
       "\n",
       "  LandContour Utilities  ... PoolArea PoolQC Fence MiscFeature MiscVal MoSold  \\\n",
       "0         Lvl    AllPub  ...        0    NaN   NaN         NaN       0      2   \n",
       "1         Lvl    AllPub  ...        0    NaN   NaN         NaN       0      5   \n",
       "2         Lvl    AllPub  ...        0    NaN   NaN         NaN       0      9   \n",
       "3         Lvl    AllPub  ...        0    NaN   NaN         NaN       0      2   \n",
       "4         Lvl    AllPub  ...        0    NaN   NaN         NaN       0     12   \n",
       "\n",
       "  YrSold  SaleType  SaleCondition  SalePrice  \n",
       "0   2008        WD         Normal     208500  \n",
       "1   2007        WD         Normal     181500  \n",
       "2   2008        WD         Normal     223500  \n",
       "3   2006        WD        Abnorml     140000  \n",
       "4   2008        WD         Normal     250000  \n",
       "\n",
       "[5 rows x 81 columns]"
      ]
     },
     "execution_count": 13,
     "metadata": {},
     "output_type": "execute_result"
    }
   ],
   "source": [
    "#IMPORTANDO LOS DATOS\n",
    "casas = pd.read_csv(\"C:/Users/Arley/Desktop/AMachine Learning/Modelos MachineLearning/Regresiones Lineales y Polinomiales/Regresion Polinomial/train.csv\", sep=\",\")\n",
    "casas.head()"
   ]
  },
  {
   "cell_type": "code",
   "execution_count": 81,
   "id": "e7742ffb",
   "metadata": {},
   "outputs": [
    {
     "data": {
      "text/plain": [
       "0       65.0\n",
       "1       80.0\n",
       "2       68.0\n",
       "3       60.0\n",
       "4       84.0\n",
       "        ... \n",
       "1455    62.0\n",
       "1456    85.0\n",
       "1457    66.0\n",
       "1458    68.0\n",
       "1459    75.0\n",
       "Name: LotFrontage, Length: 1460, dtype: float64"
      ]
     },
     "execution_count": 81,
     "metadata": {},
     "output_type": "execute_result"
    }
   ],
   "source": [
    "#SELECCIONAMOS LOS Dtaos\n",
    "x_data = casas[\"LotFrontage\"] #LotFrontage : Pies lineales de calle conectados a la propiedad\n",
    "y_data = casas[\"SalePrice\"] #Precio de Venta\n",
    "\n",
    "x_data"
   ]
  },
  {
   "cell_type": "code",
   "execution_count": 82,
   "id": "839e8a5b",
   "metadata": {},
   "outputs": [
    {
     "name": "stdout",
     "output_type": "stream",
     "text": [
      "(1460,) (1460,)\n",
      "<class 'pandas.core.series.Series'>\n",
      "RangeIndex: 1460 entries, 0 to 1459\n",
      "Series name: LotFrontage\n",
      "Non-Null Count  Dtype  \n",
      "--------------  -----  \n",
      "1201 non-null   float64\n",
      "dtypes: float64(1)\n",
      "memory usage: 11.5 KB\n"
     ]
    }
   ],
   "source": [
    "#RECTIFICANDO QUE NO FALTEN DATOS\n",
    "print(x_data.shape, y_data.shape) #Los datos estan completos de registros\n",
    "\n",
    "x_data.info() #se observa que solo hay 1201 datos faltan los demas hasta completar 1460"
   ]
  },
  {
   "cell_type": "code",
   "execution_count": 83,
   "id": "4bb16f8a",
   "metadata": {},
   "outputs": [
    {
     "data": {
      "text/plain": [
       "259"
      ]
     },
     "execution_count": 83,
     "metadata": {},
     "output_type": "execute_result"
    }
   ],
   "source": [
    "x_data.isnull().values.sum() #Se muestran los datos faltantes "
   ]
  },
  {
   "cell_type": "markdown",
   "id": "88f590a4",
   "metadata": {},
   "source": [
    "## Llenamos los valores con la media"
   ]
  },
  {
   "cell_type": "code",
   "execution_count": 84,
   "id": "f5042765",
   "metadata": {},
   "outputs": [],
   "source": [
    "prom_edad = round(x_data.mean()) #Se uso un metodo propio de Python\n",
    "x_data = x_data.replace(np.nan, prom_edad) #NO OLVIDAR ACTUALIZAR LA INSTANCIA PARA QUE GUARDE CAMBIOS"
   ]
  },
  {
   "cell_type": "code",
   "execution_count": 85,
   "id": "6c8cf573",
   "metadata": {},
   "outputs": [
    {
     "data": {
      "text/plain": [
       "<matplotlib.collections.PathCollection at 0x1ffa7ea11f0>"
      ]
     },
     "execution_count": 85,
     "metadata": {},
     "output_type": "execute_result"
    },
    {
     "data": {
      "image/png": "[encoded data removed]",
      "text/plain": [
       "<Figure size 640x480 with 1 Axes>"
      ]
     },
     "metadata": {},
     "output_type": "display_data"
    }
   ],
   "source": [
    "#GRAFICANDO LAS VARIABLES\n",
    "plt.scatter(x_data, y_data)"
   ]
  },
  {
   "cell_type": "markdown",
   "id": "327b8b27",
   "metadata": {},
   "source": [
    "# Separando Datos de Prueba"
   ]
  },
  {
   "cell_type": "code",
   "execution_count": 86,
   "id": "08ae0fe1",
   "metadata": {},
   "outputs": [],
   "source": [
    "from sklearn.model_selection import train_test_split"
   ]
  },
  {
   "cell_type": "code",
   "execution_count": 203,
   "id": "065a3c09",
   "metadata": {},
   "outputs": [],
   "source": [
    "x_train, x_test, y_train, y_test = train_test_split(x_data, y_data, test_size=0.5)"
   ]
  },
  {
   "cell_type": "code",
   "execution_count": 204,
   "id": "e0c95a57",
   "metadata": {},
   "outputs": [],
   "source": [
    "#Modificando los datos ya que el modelo lo pide en mas de una dimension [[1D],[2D]]\n",
    "x_graf = x_test\n",
    "y_graf = y_test\n",
    "\n",
    "x_train = np.array(x_train)\n",
    "y_train = np.array(y_train)\n",
    "x_test = np.array(x_test)\n",
    "y_test = np.array(y_test)\n",
    "\n",
    "x_train = x_train.reshape(-1,1)\n",
    "y_train = y_train.reshape(-1,1)\n",
    "x_test = x_test.reshape(-1,1)\n",
    "y_test = y_test.reshape(-1,1)"
   ]
  },
  {
   "cell_type": "code",
   "execution_count": 205,
   "id": "51823446",
   "metadata": {},
   "outputs": [],
   "source": [
    "#Creamos un Dataset con los valores a graficar\n",
    "grafica = pd.DataFrame({\"x_test\":x_graf, \"y_test\":y_graf})\n",
    "#grafica"
   ]
  },
  {
   "cell_type": "markdown",
   "id": "846b1077",
   "metadata": {},
   "source": [
    "# Generando el Modelo"
   ]
  },
  {
   "cell_type": "code",
   "execution_count": 206,
   "id": "e2fb4567",
   "metadata": {},
   "outputs": [],
   "source": [
    "from sklearn.preprocessing import PolynomialFeatures"
   ]
  },
  {
   "cell_type": "code",
   "execution_count": 207,
   "id": "ee03a180",
   "metadata": {},
   "outputs": [],
   "source": [
    "#Se define el grado del algoritmo\n",
    "poli_reg = PolynomialFeatures(degree=2)"
   ]
  },
  {
   "cell_type": "code",
   "execution_count": 208,
   "id": "7b768ae7",
   "metadata": {},
   "outputs": [],
   "source": [
    "#Se calculan las potencias del polinomio para los datos en X, X^n+1\n",
    "x_train_poli = poli_reg.fit_transform(x_train)\n",
    "x_test_poli = poli_reg.fit_transform(x_test)"
   ]
  },
  {
   "cell_type": "markdown",
   "id": "cd13178f",
   "metadata": {},
   "source": [
    "## Defino el Modelo"
   ]
  },
  {
   "cell_type": "code",
   "execution_count": 209,
   "id": "bc4c3475",
   "metadata": {},
   "outputs": [],
   "source": [
    "pr = linear_model.LinearRegression()"
   ]
  },
  {
   "cell_type": "markdown",
   "id": "69bcf518",
   "metadata": {},
   "source": [
    "## Entrenando el Modelo"
   ]
  },
  {
   "cell_type": "code",
   "execution_count": 210,
   "id": "d22c8102",
   "metadata": {},
   "outputs": [
    {
     "data": {
      "text/plain": [
       "LinearRegression()"
      ]
     },
     "execution_count": 210,
     "metadata": {},
     "output_type": "execute_result"
    }
   ],
   "source": [
    "pr.fit(x_train_poli, y_train)"
   ]
  },
  {
   "cell_type": "markdown",
   "id": "979bb7fe",
   "metadata": {},
   "source": [
    "## Se Realiza la predicción"
   ]
  },
  {
   "cell_type": "code",
   "execution_count": 211,
   "id": "17125e00",
   "metadata": {},
   "outputs": [],
   "source": [
    "y_predict = pr.predict(x_test_poli)"
   ]
  },
  {
   "cell_type": "code",
   "execution_count": 212,
   "id": "1770bb80",
   "metadata": {},
   "outputs": [
    {
     "data": {
      "text/html": [
       "<div>\n",
       "<style scoped>\n",
       "    .dataframe tbody tr th:only-of-type {\n",
       "        vertical-align: middle;\n",
       "    }\n",
       "\n",
       "    .dataframe tbody tr th {\n",
       "        vertical-align: top;\n",
       "    }\n",
       "\n",
       "    .dataframe thead th {\n",
       "        text-align: right;\n",
       "    }\n",
       "</style>\n",
       "<table border=\"1\" class=\"dataframe\">\n",
       "  <thead>\n",
       "    <tr style=\"text-align: right;\">\n",
       "      <th></th>\n",
       "      <th>x_test</th>\n",
       "      <th>y_test</th>\n",
       "      <th>y_predict</th>\n",
       "    </tr>\n",
       "  </thead>\n",
       "  <tbody>\n",
       "    <tr>\n",
       "      <th>363</th>\n",
       "      <td>21.0</td>\n",
       "      <td>118000</td>\n",
       "      <td>100380.586924</td>\n",
       "    </tr>\n",
       "    <tr>\n",
       "      <th>227</th>\n",
       "      <td>21.0</td>\n",
       "      <td>106000</td>\n",
       "      <td>100380.586924</td>\n",
       "    </tr>\n",
       "    <tr>\n",
       "      <th>655</th>\n",
       "      <td>21.0</td>\n",
       "      <td>88000</td>\n",
       "      <td>100380.586924</td>\n",
       "    </tr>\n",
       "    <tr>\n",
       "      <th>500</th>\n",
       "      <td>21.0</td>\n",
       "      <td>113000</td>\n",
       "      <td>100380.586924</td>\n",
       "    </tr>\n",
       "    <tr>\n",
       "      <th>235</th>\n",
       "      <td>21.0</td>\n",
       "      <td>89500</td>\n",
       "      <td>100380.586924</td>\n",
       "    </tr>\n",
       "    <tr>\n",
       "      <th>...</th>\n",
       "      <td>...</td>\n",
       "      <td>...</td>\n",
       "      <td>...</td>\n",
       "    </tr>\n",
       "    <tr>\n",
       "      <th>197</th>\n",
       "      <td>174.0</td>\n",
       "      <td>235000</td>\n",
       "      <td>324172.862906</td>\n",
       "    </tr>\n",
       "    <tr>\n",
       "      <th>231</th>\n",
       "      <td>174.0</td>\n",
       "      <td>403000</td>\n",
       "      <td>324172.862906</td>\n",
       "    </tr>\n",
       "    <tr>\n",
       "      <th>1127</th>\n",
       "      <td>182.0</td>\n",
       "      <td>259000</td>\n",
       "      <td>333210.897576</td>\n",
       "    </tr>\n",
       "    <tr>\n",
       "      <th>1298</th>\n",
       "      <td>313.0</td>\n",
       "      <td>160000</td>\n",
       "      <td>443553.376356</td>\n",
       "    </tr>\n",
       "    <tr>\n",
       "      <th>934</th>\n",
       "      <td>313.0</td>\n",
       "      <td>242000</td>\n",
       "      <td>443553.376356</td>\n",
       "    </tr>\n",
       "  </tbody>\n",
       "</table>\n",
       "<p>730 rows × 3 columns</p>\n",
       "</div>"
      ],
      "text/plain": [
       "      x_test  y_test      y_predict\n",
       "363     21.0  118000  100380.586924\n",
       "227     21.0  106000  100380.586924\n",
       "655     21.0   88000  100380.586924\n",
       "500     21.0  113000  100380.586924\n",
       "235     21.0   89500  100380.586924\n",
       "...      ...     ...            ...\n",
       "197    174.0  235000  324172.862906\n",
       "231    174.0  403000  324172.862906\n",
       "1127   182.0  259000  333210.897576\n",
       "1298   313.0  160000  443553.376356\n",
       "934    313.0  242000  443553.376356\n",
       "\n",
       "[730 rows x 3 columns]"
      ]
     },
     "execution_count": 212,
     "metadata": {},
     "output_type": "execute_result"
    }
   ],
   "source": [
    "#AÑADIMOS LOS DATOS AL DATASET PARA GRAFICAR\n",
    "grafica[\"y_predict\"] = y_predict\n",
    "grafica.sort_values(by=\"x_test\")"
   ]
  },
  {
   "cell_type": "markdown",
   "id": "29663f7c",
   "metadata": {},
   "source": [
    "# Graficando los valores"
   ]
  },
  {
   "cell_type": "code",
   "execution_count": 213,
   "id": "a4c63e38",
   "metadata": {},
   "outputs": [
    {
     "data": {
      "text/plain": [
       "[<matplotlib.lines.Line2D at 0x1ffa8edfd00>]"
      ]
     },
     "execution_count": 213,
     "metadata": {},
     "output_type": "execute_result"
    },
    {
     "data": {
      "image/png": "[encoded data removed]",
      "text/plain": [
       "<Figure size 640x480 with 1 Axes>"
      ]
     },
     "metadata": {},
     "output_type": "display_data"
    }
   ],
   "source": [
    "plt.scatter(grafica[\"x_test\"],grafica[\"y_test\"])\n",
    "plt.plot(grafica[\"x_test\"],grafica[\"y_predict\"], color=\"orange\")\n"
   ]
  },
  {
   "cell_type": "markdown",
   "id": "990e2815",
   "metadata": {},
   "source": [
    "# Definiendo la Ecuacion y su error"
   ]
  },
  {
   "cell_type": "code",
   "execution_count": 214,
   "id": "ff37f011",
   "metadata": {},
   "outputs": [
    {
     "data": {
      "text/plain": [
       "array([62107.70322185])"
      ]
     },
     "execution_count": 214,
     "metadata": {},
     "output_type": "execute_result"
    }
   ],
   "source": [
    "pr.coef_ \n",
    "pr.intercept_"
   ]
  },
  {
   "cell_type": "code",
   "execution_count": 215,
   "id": "d5a69102",
   "metadata": {},
   "outputs": [
    {
     "data": {
      "text/plain": [
       "0.1504687047997968"
      ]
     },
     "execution_count": 215,
     "metadata": {},
     "output_type": "execute_result"
    }
   ],
   "source": [
    "pr.score(x_train_poli, y_train) # Los datos estan muy dispersos no es bueno estealgoritmo para ello"
   ]
  }
 ],
 "metadata": {
  "kernelspec": {
   "display_name": "Python 3 (ipykernel)",
   "language": "python",
   "name": "python3"
  },
  "language_info": {
   "codemirror_mode": {
    "name": "ipython",
    "version": 3
   },
   "file_extension": ".py",
   "mimetype": "text/x-python",
   "name": "python",
   "nbconvert_exporter": "python",
   "pygments_lexer": "ipython3",
   "version": "3.9.13"
  }
 },
 "nbformat": 4,
 "nbformat_minor": 5
}
